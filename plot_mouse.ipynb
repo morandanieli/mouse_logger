{
 "cells": [
  {
   "cell_type": "code",
   "execution_count": 30,
   "id": "e625dc0a-a3ec-4d13-8398-c200da5796dd",
   "metadata": {},
   "outputs": [],
   "source": [
    "import pandas as pd\n",
    "import sqlite3\n",
    "import numpy as np\n",
    "import matplotlib.pyplot as plt\n",
    "import seaborn as sns\n",
    "import matplotlib as mtl\n",
    "\n",
    "%matplotlib inline"
   ]
  },
  {
   "cell_type": "code",
   "execution_count": 31,
   "id": "57353246-3021-45bc-ac1b-c29b6fdb5c22",
   "metadata": {},
   "outputs": [
    {
     "data": {
      "text/html": [
       "<div>\n",
       "<style scoped>\n",
       "    .dataframe tbody tr th:only-of-type {\n",
       "        vertical-align: middle;\n",
       "    }\n",
       "\n",
       "    .dataframe tbody tr th {\n",
       "        vertical-align: top;\n",
       "    }\n",
       "\n",
       "    .dataframe thead th {\n",
       "        text-align: right;\n",
       "    }\n",
       "</style>\n",
       "<table border=\"1\" class=\"dataframe\">\n",
       "  <thead>\n",
       "    <tr style=\"text-align: right;\">\n",
       "      <th></th>\n",
       "      <th>x</th>\n",
       "      <th>y</th>\n",
       "      <th>timestamp</th>\n",
       "      <th>session_id</th>\n",
       "      <th>event_type</th>\n",
       "    </tr>\n",
       "  </thead>\n",
       "  <tbody>\n",
       "    <tr>\n",
       "      <th>0</th>\n",
       "      <td>150</td>\n",
       "      <td>1482</td>\n",
       "      <td>488.4</td>\n",
       "      <td>86016981349520</td>\n",
       "      <td>move</td>\n",
       "    </tr>\n",
       "    <tr>\n",
       "      <th>1</th>\n",
       "      <td>152</td>\n",
       "      <td>1475</td>\n",
       "      <td>496.5</td>\n",
       "      <td>86016981349520</td>\n",
       "      <td>move</td>\n",
       "    </tr>\n",
       "    <tr>\n",
       "      <th>2</th>\n",
       "      <td>154</td>\n",
       "      <td>1450</td>\n",
       "      <td>529.0</td>\n",
       "      <td>86016981349520</td>\n",
       "      <td>move</td>\n",
       "    </tr>\n",
       "    <tr>\n",
       "      <th>3</th>\n",
       "      <td>155</td>\n",
       "      <td>1448</td>\n",
       "      <td>537.2</td>\n",
       "      <td>86016981349520</td>\n",
       "      <td>move</td>\n",
       "    </tr>\n",
       "    <tr>\n",
       "      <th>4</th>\n",
       "      <td>155</td>\n",
       "      <td>1424</td>\n",
       "      <td>778.0</td>\n",
       "      <td>86016981349520</td>\n",
       "      <td>click</td>\n",
       "    </tr>\n",
       "    <tr>\n",
       "      <th>...</th>\n",
       "      <td>...</td>\n",
       "      <td>...</td>\n",
       "      <td>...</td>\n",
       "      <td>...</td>\n",
       "      <td>...</td>\n",
       "    </tr>\n",
       "    <tr>\n",
       "      <th>2218</th>\n",
       "      <td>29</td>\n",
       "      <td>1724</td>\n",
       "      <td>3206.6</td>\n",
       "      <td>132336280261440</td>\n",
       "      <td>move</td>\n",
       "    </tr>\n",
       "    <tr>\n",
       "      <th>2219</th>\n",
       "      <td>29</td>\n",
       "      <td>1724</td>\n",
       "      <td>3206.6</td>\n",
       "      <td>132336280261440</td>\n",
       "      <td>move</td>\n",
       "    </tr>\n",
       "    <tr>\n",
       "      <th>2220</th>\n",
       "      <td>29</td>\n",
       "      <td>1724</td>\n",
       "      <td>3206.6</td>\n",
       "      <td>132336280261440</td>\n",
       "      <td>move</td>\n",
       "    </tr>\n",
       "    <tr>\n",
       "      <th>2221</th>\n",
       "      <td>29</td>\n",
       "      <td>1724</td>\n",
       "      <td>3206.6</td>\n",
       "      <td>132336280261440</td>\n",
       "      <td>move</td>\n",
       "    </tr>\n",
       "    <tr>\n",
       "      <th>2222</th>\n",
       "      <td>29</td>\n",
       "      <td>1716</td>\n",
       "      <td>3646.2</td>\n",
       "      <td>132336280261440</td>\n",
       "      <td>click</td>\n",
       "    </tr>\n",
       "  </tbody>\n",
       "</table>\n",
       "<p>2223 rows × 5 columns</p>\n",
       "</div>"
      ],
      "text/plain": [
       "        x     y  timestamp       session_id event_type\n",
       "0     150  1482      488.4   86016981349520       move\n",
       "1     152  1475      496.5   86016981349520       move\n",
       "2     154  1450      529.0   86016981349520       move\n",
       "3     155  1448      537.2   86016981349520       move\n",
       "4     155  1424      778.0   86016981349520      click\n",
       "...   ...   ...        ...              ...        ...\n",
       "2218   29  1724     3206.6  132336280261440       move\n",
       "2219   29  1724     3206.6  132336280261440       move\n",
       "2220   29  1724     3206.6  132336280261440       move\n",
       "2221   29  1724     3206.6  132336280261440       move\n",
       "2222   29  1716     3646.2  132336280261440      click\n",
       "\n",
       "[2223 rows x 5 columns]"
      ]
     },
     "execution_count": 31,
     "metadata": {},
     "output_type": "execute_result"
    }
   ],
   "source": [
    "def get_data():\n",
    "    # Read sqlite query results into a pandas DataFrame\n",
    "    con = sqlite3.connect(\"/Users/moran/PycharmProjects/keylogger/db/logger.db\")\n",
    "    df = pd.read_sql_query(\"SELECT * from moves\", con)\n",
    "\n",
    "    # Verify that result of SQL query is stored in the dataframe\n",
    "    con.close()\n",
    "    return df\n",
    "\n",
    "df = get_data()\n",
    "df"
   ]
  },
  {
   "cell_type": "code",
   "execution_count": 32,
   "id": "51506329-cc11-4412-84d4-e7e01f9e22c6",
   "metadata": {},
   "outputs": [
    {
     "data": {
      "text/plain": [
       "session_id\n",
       "51279743651108     668\n",
       "163766001040587    661\n",
       "119101341014136    295\n",
       "61205527402026     226\n",
       "109177423051620    170\n",
       "132336280261440    161\n",
       "86016981349520      42\n",
       "dtype: int64"
      ]
     },
     "execution_count": 32,
     "metadata": {},
     "output_type": "execute_result"
    }
   ],
   "source": [
    "sessions = df.value_counts('session_id')\n",
    "sessions"
   ]
  },
  {
   "cell_type": "code",
   "execution_count": 33,
   "id": "dd20f323-b0a6-40cc-9e39-4131de06a7b7",
   "metadata": {},
   "outputs": [
    {
     "data": {
      "text/html": [
       "<div>\n",
       "<style scoped>\n",
       "    .dataframe tbody tr th:only-of-type {\n",
       "        vertical-align: middle;\n",
       "    }\n",
       "\n",
       "    .dataframe tbody tr th {\n",
       "        vertical-align: top;\n",
       "    }\n",
       "\n",
       "    .dataframe thead th {\n",
       "        text-align: right;\n",
       "    }\n",
       "</style>\n",
       "<table border=\"1\" class=\"dataframe\">\n",
       "  <thead>\n",
       "    <tr style=\"text-align: right;\">\n",
       "      <th></th>\n",
       "      <th>x</th>\n",
       "      <th>y</th>\n",
       "      <th>timestamp</th>\n",
       "      <th>event_type</th>\n",
       "    </tr>\n",
       "    <tr>\n",
       "      <th>session_id</th>\n",
       "      <th></th>\n",
       "      <th></th>\n",
       "      <th></th>\n",
       "      <th></th>\n",
       "    </tr>\n",
       "  </thead>\n",
       "  <tbody>\n",
       "    <tr>\n",
       "      <th>109177423051620</th>\n",
       "      <td>170</td>\n",
       "      <td>170</td>\n",
       "      <td>170</td>\n",
       "      <td>170</td>\n",
       "    </tr>\n",
       "    <tr>\n",
       "      <th>119101341014136</th>\n",
       "      <td>295</td>\n",
       "      <td>295</td>\n",
       "      <td>295</td>\n",
       "      <td>295</td>\n",
       "    </tr>\n",
       "    <tr>\n",
       "      <th>132336280261440</th>\n",
       "      <td>161</td>\n",
       "      <td>161</td>\n",
       "      <td>161</td>\n",
       "      <td>161</td>\n",
       "    </tr>\n",
       "    <tr>\n",
       "      <th>163766001040587</th>\n",
       "      <td>661</td>\n",
       "      <td>661</td>\n",
       "      <td>661</td>\n",
       "      <td>661</td>\n",
       "    </tr>\n",
       "    <tr>\n",
       "      <th>51279743651108</th>\n",
       "      <td>668</td>\n",
       "      <td>668</td>\n",
       "      <td>668</td>\n",
       "      <td>668</td>\n",
       "    </tr>\n",
       "    <tr>\n",
       "      <th>61205527402026</th>\n",
       "      <td>226</td>\n",
       "      <td>226</td>\n",
       "      <td>226</td>\n",
       "      <td>226</td>\n",
       "    </tr>\n",
       "    <tr>\n",
       "      <th>86016981349520</th>\n",
       "      <td>42</td>\n",
       "      <td>42</td>\n",
       "      <td>42</td>\n",
       "      <td>42</td>\n",
       "    </tr>\n",
       "  </tbody>\n",
       "</table>\n",
       "</div>"
      ],
      "text/plain": [
       "                   x    y  timestamp  event_type\n",
       "session_id                                      \n",
       "109177423051620  170  170        170         170\n",
       "119101341014136  295  295        295         295\n",
       "132336280261440  161  161        161         161\n",
       "163766001040587  661  661        661         661\n",
       "51279743651108   668  668        668         668\n",
       "61205527402026   226  226        226         226\n",
       "86016981349520    42   42         42          42"
      ]
     },
     "execution_count": 33,
     "metadata": {},
     "output_type": "execute_result"
    }
   ],
   "source": [
    "df.groupby('session_id').count()"
   ]
  },
  {
   "cell_type": "code",
   "execution_count": 34,
   "id": "8eaf19f1-f8cf-4872-96d0-13b9d995afb2",
   "metadata": {},
   "outputs": [],
   "source": [
    "def handle_session(session_id, total_df):\n",
    "    df = total_df[total_df['session_id'] == session_id]\n",
    "    df.sort_values('timestamp', inplace=True)\n",
    "    moves = df[df['event_type'] == 'move']\n",
    "    moves.reset_index(drop=True, inplace=True)\n",
    "    clicks = df[df['event_type'] == 'click']\n",
    "    clicks.reset_index(drop=True, inplace=True)\n",
    "    # calc dist\n",
    "    dx = moves[\"x\"].iloc[1:].values - moves[\"x\"].iloc[0:-1].values\n",
    "    dy = moves[\"y\"].iloc[1:].values - moves[\"y\"].iloc[0:-1].values\n",
    "    moves['dist'] = np.append([0], np.sqrt(np.power(dx, 2) + np.power(dy, 2)))\n",
    "    # calc time change \n",
    "    dt = moves[\"timestamp\"].iloc[1:].values - moves[\"timestamp\"].iloc[0:-1].values\n",
    "    moves['dt'] = np.append([0], dt)\n",
    "    # calc speed \n",
    "\n",
    "    moves['speed'] = moves['dist'] / moves['dt']\n",
    "    moves['speed'].fillna(0, inplace=True)\n",
    "    \n",
    "    moves['speed_cat'] = pd.cut(moves['speed'], bins=np.arange(-1,20), labels=np.arange(1,21))\n",
    "\n",
    "    return moves, clicks"
   ]
  },
  {
   "cell_type": "code",
   "execution_count": 35,
   "id": "523c92d3-82ae-4685-a468-22560bc8d42e",
   "metadata": {},
   "outputs": [
    {
     "name": "stderr",
     "output_type": "stream",
     "text": [
      "/opt/anaconda3/lib/python3.9/site-packages/pandas/util/_decorators.py:311: SettingWithCopyWarning: \n",
      "A value is trying to be set on a copy of a slice from a DataFrame\n",
      "\n",
      "See the caveats in the documentation: https://pandas.pydata.org/pandas-docs/stable/user_guide/indexing.html#returning-a-view-versus-a-copy\n",
      "  return func(*args, **kwargs)\n",
      "/var/folders/cb/j7mnj9p54fgfc1kpt2kpqph40000gn/T/ipykernel_10330/3533241900.py:11: SettingWithCopyWarning: \n",
      "A value is trying to be set on a copy of a slice from a DataFrame.\n",
      "Try using .loc[row_indexer,col_indexer] = value instead\n",
      "\n",
      "See the caveats in the documentation: https://pandas.pydata.org/pandas-docs/stable/user_guide/indexing.html#returning-a-view-versus-a-copy\n",
      "  moves['dist'] = np.append([0], np.sqrt(np.power(dx, 2) + np.power(dy, 2)))\n",
      "/var/folders/cb/j7mnj9p54fgfc1kpt2kpqph40000gn/T/ipykernel_10330/3533241900.py:14: SettingWithCopyWarning: \n",
      "A value is trying to be set on a copy of a slice from a DataFrame.\n",
      "Try using .loc[row_indexer,col_indexer] = value instead\n",
      "\n",
      "See the caveats in the documentation: https://pandas.pydata.org/pandas-docs/stable/user_guide/indexing.html#returning-a-view-versus-a-copy\n",
      "  moves['dt'] = np.append([0], dt)\n",
      "/var/folders/cb/j7mnj9p54fgfc1kpt2kpqph40000gn/T/ipykernel_10330/3533241900.py:17: SettingWithCopyWarning: \n",
      "A value is trying to be set on a copy of a slice from a DataFrame.\n",
      "Try using .loc[row_indexer,col_indexer] = value instead\n",
      "\n",
      "See the caveats in the documentation: https://pandas.pydata.org/pandas-docs/stable/user_guide/indexing.html#returning-a-view-versus-a-copy\n",
      "  moves['speed'] = moves['dist'] / moves['dt']\n",
      "/opt/anaconda3/lib/python3.9/site-packages/pandas/core/generic.py:6392: SettingWithCopyWarning: \n",
      "A value is trying to be set on a copy of a slice from a DataFrame\n",
      "\n",
      "See the caveats in the documentation: https://pandas.pydata.org/pandas-docs/stable/user_guide/indexing.html#returning-a-view-versus-a-copy\n",
      "  return self._update_inplace(result)\n",
      "/var/folders/cb/j7mnj9p54fgfc1kpt2kpqph40000gn/T/ipykernel_10330/3533241900.py:20: SettingWithCopyWarning: \n",
      "A value is trying to be set on a copy of a slice from a DataFrame.\n",
      "Try using .loc[row_indexer,col_indexer] = value instead\n",
      "\n",
      "See the caveats in the documentation: https://pandas.pydata.org/pandas-docs/stable/user_guide/indexing.html#returning-a-view-versus-a-copy\n",
      "  moves['speed_cat'] = pd.cut(moves['speed'], bins=np.arange(-1,20), labels=np.arange(1,21))\n"
     ]
    }
   ],
   "source": [
    "moves, clicks = handle_session(\"163766001040587\", df)"
   ]
  },
  {
   "cell_type": "code",
   "execution_count": 36,
   "id": "05af06e1-df56-4375-901f-9fe390afcdd9",
   "metadata": {},
   "outputs": [],
   "source": [
    "def extract_images(moves, clicks):\n",
    "    plt.rcParams['axes.facecolor'] = 'black'    \n",
    "    fig, ax = plt.subplots( nrows=1, ncols=1 )   \n",
    "    ax.get_xaxis().set_visible(False)\n",
    "    ax.get_yaxis().set_visible(False)    \n",
    "\n",
    "    prev_val = None\n",
    "    rows = []\n",
    "    cmap = mtl.cm.get_cmap('Reds_r')\n",
    "    norm = mtl.colors.Normalize(vmin=1, vmax=20)\n",
    "\n",
    "    for index, row in moves.iterrows():\n",
    "        if prev_val == row['speed_cat'] or prev_val == None:\n",
    "            rows.append(index)\n",
    "        else:\n",
    "            rows.append(index)\n",
    "            plt.plot(moves.loc[rows]['x'], moves.loc[rows]['y'], c=cmap(norm(prev_val)))\n",
    "            rows = [index]\n",
    "        prev_val = row['speed_cat']\n",
    "\n",
    "    plt.scatter(clicks['x'], clicks['y'], s=200)\n",
    "    \n",
    "    fig.savefig('with_clicks.png', bbox_inches='tight', dpi=300)\n",
    "    plt.close(fig) \n",
    "    \n",
    "extract_images(moves, clicks)"
   ]
  },
  {
   "cell_type": "code",
   "execution_count": 4,
   "id": "c88d48c1-a4e2-473d-b6c4-95c824e1ec84",
   "metadata": {},
   "outputs": [],
   "source": [
    " import cv2"
   ]
  },
  {
   "cell_type": "code",
   "execution_count": 3,
   "id": "bd896dce-5323-4ae2-98b5-3b417c264c0d",
   "metadata": {},
   "outputs": [
    {
     "name": "stdout",
     "output_type": "stream",
     "text": [
      "Collecting opencv-python\n",
      "  Downloading opencv_python-4.5.5.64-cp36-abi3-macosx_10_15_x86_64.whl (46.3 MB)\n",
      "\u001b[K     |████████████████████████████████| 46.3 MB 4.5 MB/s eta 0:00:01\n",
      "\u001b[?25hRequirement already satisfied: numpy>=1.19.3 in /opt/anaconda3/lib/python3.9/site-packages (from opencv-python) (1.20.3)\n",
      "Installing collected packages: opencv-python\n",
      "Successfully installed opencv-python-4.5.5.64\n"
     ]
    }
   ],
   "source": [
    "!pip install opencv-python"
   ]
  },
  {
   "cell_type": "code",
   "execution_count": 5,
   "id": "93d93848-9cff-4463-97ed-8ccb2cb07664",
   "metadata": {},
   "outputs": [],
   "source": [
    "image= cv2.imread('images/84376088071389.png')"
   ]
  },
  {
   "cell_type": "code",
   "execution_count": 6,
   "id": "b4568d01-54ae-4cca-81c6-ad6eae6fb6e8",
   "metadata": {},
   "outputs": [],
   "source": [
    "flippedimage= cv2.flip(image, 0)"
   ]
  },
  {
   "cell_type": "code",
   "execution_count": 8,
   "id": "56d6c604-1beb-4ddd-9502-ff82ddb644cd",
   "metadata": {},
   "outputs": [],
   "source": [
    "cv2.imshow('Vertically Flipped Image', flippedimage)"
   ]
  },
  {
   "cell_type": "code",
   "execution_count": 12,
   "id": "0347c58f-3044-4cdd-85b2-61f89dc954d3",
   "metadata": {},
   "outputs": [
    {
     "data": {
      "text/plain": [
       "True"
      ]
     },
     "execution_count": 12,
     "metadata": {},
     "output_type": "execute_result"
    }
   ],
   "source": [
    "cv2.imwrite(\"images/a.png\", flippedimage)"
   ]
  },
  {
   "cell_type": "code",
   "execution_count": null,
   "id": "8fad349b-f66c-4a7c-9d0a-1134b0d72ff5",
   "metadata": {},
   "outputs": [],
   "source": []
  }
 ],
 "metadata": {
  "kernelspec": {
   "display_name": "Python 3 (ipykernel)",
   "language": "python",
   "name": "python3"
  },
  "language_info": {
   "codemirror_mode": {
    "name": "ipython",
    "version": 3
   },
   "file_extension": ".py",
   "mimetype": "text/x-python",
   "name": "python",
   "nbconvert_exporter": "python",
   "pygments_lexer": "ipython3",
   "version": "3.9.7"
  }
 },
 "nbformat": 4,
 "nbformat_minor": 5
}
